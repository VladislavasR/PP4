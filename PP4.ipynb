{
  "nbformat": 4,
  "nbformat_minor": 0,
  "metadata": {
    "colab": {
      "name": "PP4.ipynb",
      "provenance": [],
      "collapsed_sections": [],
      "authorship_tag": "ABX9TyOtRGv+ibUdbglb/sgdMIXL",
      "include_colab_link": true
    },
    "kernelspec": {
      "name": "python3",
      "display_name": "Python 3"
    },
    "language_info": {
      "name": "python"
    }
  },
  "cells": [
    {
      "cell_type": "markdown",
      "metadata": {
        "id": "view-in-github",
        "colab_type": "text"
      },
      "source": [
        "<a href=\"https://colab.research.google.com/github/VladislavasR/PP4/blob/main/PP4.ipynb\" target=\"_parent\"><img src=\"https://colab.research.google.com/assets/colab-badge.svg\" alt=\"Open In Colab\"/></a>"
      ]
    },
    {
      "cell_type": "markdown",
      "source": [
        "## Start of the PP4"
      ],
      "metadata": {
        "id": "JiqsUP4VcGMv"
      }
    },
    {
      "cell_type": "code",
      "source": [
        "from sklearn.metrics import mean_absolute_error\n",
        "from sklearn.ensemble import RandomForestRegressor\n",
        "from sklearn.model_selection import train_test_split\n",
        "from sklearn.model_selection import cross_val_score\n",
        "from xgboost import XGBRegressor\n",
        "import matplotlib as plt\n",
        "import seaborn as sns\n",
        "import numpy as np\n",
        "import pandas as pd"
      ],
      "metadata": {
        "id": "uQ1CUW4IUip5"
      },
      "execution_count": 1,
      "outputs": []
    },
    {
      "cell_type": "code",
      "source": [
        "!wget https://raw.githubusercontent.com/VladislavasR/PP4/main/electricity_prices.csv"
      ],
      "metadata": {
        "colab": {
          "base_uri": "https://localhost:8080/"
        },
        "id": "mQ_Mn44uwst1",
        "outputId": "35f6c761-8454-4408-d8dc-c6912152e88b"
      },
      "execution_count": 15,
      "outputs": [
        {
          "output_type": "stream",
          "name": "stdout",
          "text": [
            "--2022-08-16 17:58:43--  https://raw.githubusercontent.com/VladislavasR/PP4/main/electricity_prices.csv\n",
            "Resolving raw.githubusercontent.com (raw.githubusercontent.com)... 185.199.111.133, 185.199.108.133, 185.199.110.133, ...\n",
            "Connecting to raw.githubusercontent.com (raw.githubusercontent.com)|185.199.111.133|:443... connected.\n",
            "HTTP request sent, awaiting response... 200 OK\n",
            "Length: 4048368 (3.9M) [text/plain]\n",
            "Saving to: ‘electricity_prices.csv.1’\n",
            "\n",
            "electricity_prices. 100%[===================>]   3.86M  --.-KB/s    in 0.1s    \n",
            "\n",
            "2022-08-16 17:58:43 (39.9 MB/s) - ‘electricity_prices.csv.1’ saved [4048368/4048368]\n",
            "\n"
          ]
        }
      ]
    },
    {
      "cell_type": "code",
      "source": [
        "el_prices = pd.read_csv('electricity_prices.csv')\n",
        "el_prices.head()"
      ],
      "metadata": {
        "colab": {
          "base_uri": "https://localhost:8080/",
          "height": 392
        },
        "id": "XJCMvWviV8eH",
        "outputId": "9692cc66-36be-4f96-c9d7-a86c462bbf32"
      },
      "execution_count": 16,
      "outputs": [
        {
          "output_type": "stream",
          "name": "stderr",
          "text": [
            "/usr/local/lib/python3.7/dist-packages/IPython/core/interactiveshell.py:3326: DtypeWarning: Columns (9,10,11,14,15,16,17) have mixed types.Specify dtype option on import or set low_memory=False.\n",
            "  exec(code_obj, self.user_global_ns, self.user_ns)\n"
          ]
        },
        {
          "output_type": "execute_result",
          "data": {
            "text/plain": [
              "           DateTime Holiday  HolidayFlag  DayOfWeek  WeekOfYear  Day  Month  \\\n",
              "0  01/11/2011 00:00    None            0          1          44    1     11   \n",
              "1  01/11/2011 00:30    None            0          1          44    1     11   \n",
              "2  01/11/2011 01:00    None            0          1          44    1     11   \n",
              "3  01/11/2011 01:30    None            0          1          44    1     11   \n",
              "4  01/11/2011 02:00    None            0          1          44    1     11   \n",
              "\n",
              "   Year  PeriodOfDay ForecastWindProduction SystemLoadEA  SMPEA  \\\n",
              "0  2011            0                 315.31      3388.77  49.26   \n",
              "1  2011            1                 321.80      3196.66  49.26   \n",
              "2  2011            2                 328.57      3060.71  49.10   \n",
              "3  2011            3                 335.60      2945.56  48.04   \n",
              "4  2011            4                 342.90      2849.34  33.75   \n",
              "\n",
              "  ORKTemperature ORKWindspeed CO2Intensity ActualWindProduction SystemLoadEP2  \\\n",
              "0           6.00         9.30       600.71               356.00       3159.60   \n",
              "1           6.00        11.10       605.42               317.00       2973.01   \n",
              "2           5.00        11.10       589.97               311.00       2834.00   \n",
              "3           6.00         9.30       585.94               313.00       2725.99   \n",
              "4           6.00        11.10       571.52               346.00       2655.64   \n",
              "\n",
              "  SMPEP2  \n",
              "0  54.32  \n",
              "1  54.23  \n",
              "2  54.23  \n",
              "3  53.47  \n",
              "4  39.87  "
            ],
            "text/html": [
              "\n",
              "  <div id=\"df-3539d688-f12c-4326-a937-f571dbedc603\">\n",
              "    <div class=\"colab-df-container\">\n",
              "      <div>\n",
              "<style scoped>\n",
              "    .dataframe tbody tr th:only-of-type {\n",
              "        vertical-align: middle;\n",
              "    }\n",
              "\n",
              "    .dataframe tbody tr th {\n",
              "        vertical-align: top;\n",
              "    }\n",
              "\n",
              "    .dataframe thead th {\n",
              "        text-align: right;\n",
              "    }\n",
              "</style>\n",
              "<table border=\"1\" class=\"dataframe\">\n",
              "  <thead>\n",
              "    <tr style=\"text-align: right;\">\n",
              "      <th></th>\n",
              "      <th>DateTime</th>\n",
              "      <th>Holiday</th>\n",
              "      <th>HolidayFlag</th>\n",
              "      <th>DayOfWeek</th>\n",
              "      <th>WeekOfYear</th>\n",
              "      <th>Day</th>\n",
              "      <th>Month</th>\n",
              "      <th>Year</th>\n",
              "      <th>PeriodOfDay</th>\n",
              "      <th>ForecastWindProduction</th>\n",
              "      <th>SystemLoadEA</th>\n",
              "      <th>SMPEA</th>\n",
              "      <th>ORKTemperature</th>\n",
              "      <th>ORKWindspeed</th>\n",
              "      <th>CO2Intensity</th>\n",
              "      <th>ActualWindProduction</th>\n",
              "      <th>SystemLoadEP2</th>\n",
              "      <th>SMPEP2</th>\n",
              "    </tr>\n",
              "  </thead>\n",
              "  <tbody>\n",
              "    <tr>\n",
              "      <th>0</th>\n",
              "      <td>01/11/2011 00:00</td>\n",
              "      <td>None</td>\n",
              "      <td>0</td>\n",
              "      <td>1</td>\n",
              "      <td>44</td>\n",
              "      <td>1</td>\n",
              "      <td>11</td>\n",
              "      <td>2011</td>\n",
              "      <td>0</td>\n",
              "      <td>315.31</td>\n",
              "      <td>3388.77</td>\n",
              "      <td>49.26</td>\n",
              "      <td>6.00</td>\n",
              "      <td>9.30</td>\n",
              "      <td>600.71</td>\n",
              "      <td>356.00</td>\n",
              "      <td>3159.60</td>\n",
              "      <td>54.32</td>\n",
              "    </tr>\n",
              "    <tr>\n",
              "      <th>1</th>\n",
              "      <td>01/11/2011 00:30</td>\n",
              "      <td>None</td>\n",
              "      <td>0</td>\n",
              "      <td>1</td>\n",
              "      <td>44</td>\n",
              "      <td>1</td>\n",
              "      <td>11</td>\n",
              "      <td>2011</td>\n",
              "      <td>1</td>\n",
              "      <td>321.80</td>\n",
              "      <td>3196.66</td>\n",
              "      <td>49.26</td>\n",
              "      <td>6.00</td>\n",
              "      <td>11.10</td>\n",
              "      <td>605.42</td>\n",
              "      <td>317.00</td>\n",
              "      <td>2973.01</td>\n",
              "      <td>54.23</td>\n",
              "    </tr>\n",
              "    <tr>\n",
              "      <th>2</th>\n",
              "      <td>01/11/2011 01:00</td>\n",
              "      <td>None</td>\n",
              "      <td>0</td>\n",
              "      <td>1</td>\n",
              "      <td>44</td>\n",
              "      <td>1</td>\n",
              "      <td>11</td>\n",
              "      <td>2011</td>\n",
              "      <td>2</td>\n",
              "      <td>328.57</td>\n",
              "      <td>3060.71</td>\n",
              "      <td>49.10</td>\n",
              "      <td>5.00</td>\n",
              "      <td>11.10</td>\n",
              "      <td>589.97</td>\n",
              "      <td>311.00</td>\n",
              "      <td>2834.00</td>\n",
              "      <td>54.23</td>\n",
              "    </tr>\n",
              "    <tr>\n",
              "      <th>3</th>\n",
              "      <td>01/11/2011 01:30</td>\n",
              "      <td>None</td>\n",
              "      <td>0</td>\n",
              "      <td>1</td>\n",
              "      <td>44</td>\n",
              "      <td>1</td>\n",
              "      <td>11</td>\n",
              "      <td>2011</td>\n",
              "      <td>3</td>\n",
              "      <td>335.60</td>\n",
              "      <td>2945.56</td>\n",
              "      <td>48.04</td>\n",
              "      <td>6.00</td>\n",
              "      <td>9.30</td>\n",
              "      <td>585.94</td>\n",
              "      <td>313.00</td>\n",
              "      <td>2725.99</td>\n",
              "      <td>53.47</td>\n",
              "    </tr>\n",
              "    <tr>\n",
              "      <th>4</th>\n",
              "      <td>01/11/2011 02:00</td>\n",
              "      <td>None</td>\n",
              "      <td>0</td>\n",
              "      <td>1</td>\n",
              "      <td>44</td>\n",
              "      <td>1</td>\n",
              "      <td>11</td>\n",
              "      <td>2011</td>\n",
              "      <td>4</td>\n",
              "      <td>342.90</td>\n",
              "      <td>2849.34</td>\n",
              "      <td>33.75</td>\n",
              "      <td>6.00</td>\n",
              "      <td>11.10</td>\n",
              "      <td>571.52</td>\n",
              "      <td>346.00</td>\n",
              "      <td>2655.64</td>\n",
              "      <td>39.87</td>\n",
              "    </tr>\n",
              "  </tbody>\n",
              "</table>\n",
              "</div>\n",
              "      <button class=\"colab-df-convert\" onclick=\"convertToInteractive('df-3539d688-f12c-4326-a937-f571dbedc603')\"\n",
              "              title=\"Convert this dataframe to an interactive table.\"\n",
              "              style=\"display:none;\">\n",
              "        \n",
              "  <svg xmlns=\"http://www.w3.org/2000/svg\" height=\"24px\"viewBox=\"0 0 24 24\"\n",
              "       width=\"24px\">\n",
              "    <path d=\"M0 0h24v24H0V0z\" fill=\"none\"/>\n",
              "    <path d=\"M18.56 5.44l.94 2.06.94-2.06 2.06-.94-2.06-.94-.94-2.06-.94 2.06-2.06.94zm-11 1L8.5 8.5l.94-2.06 2.06-.94-2.06-.94L8.5 2.5l-.94 2.06-2.06.94zm10 10l.94 2.06.94-2.06 2.06-.94-2.06-.94-.94-2.06-.94 2.06-2.06.94z\"/><path d=\"M17.41 7.96l-1.37-1.37c-.4-.4-.92-.59-1.43-.59-.52 0-1.04.2-1.43.59L10.3 9.45l-7.72 7.72c-.78.78-.78 2.05 0 2.83L4 21.41c.39.39.9.59 1.41.59.51 0 1.02-.2 1.41-.59l7.78-7.78 2.81-2.81c.8-.78.8-2.07 0-2.86zM5.41 20L4 18.59l7.72-7.72 1.47 1.35L5.41 20z\"/>\n",
              "  </svg>\n",
              "      </button>\n",
              "      \n",
              "  <style>\n",
              "    .colab-df-container {\n",
              "      display:flex;\n",
              "      flex-wrap:wrap;\n",
              "      gap: 12px;\n",
              "    }\n",
              "\n",
              "    .colab-df-convert {\n",
              "      background-color: #E8F0FE;\n",
              "      border: none;\n",
              "      border-radius: 50%;\n",
              "      cursor: pointer;\n",
              "      display: none;\n",
              "      fill: #1967D2;\n",
              "      height: 32px;\n",
              "      padding: 0 0 0 0;\n",
              "      width: 32px;\n",
              "    }\n",
              "\n",
              "    .colab-df-convert:hover {\n",
              "      background-color: #E2EBFA;\n",
              "      box-shadow: 0px 1px 2px rgba(60, 64, 67, 0.3), 0px 1px 3px 1px rgba(60, 64, 67, 0.15);\n",
              "      fill: #174EA6;\n",
              "    }\n",
              "\n",
              "    [theme=dark] .colab-df-convert {\n",
              "      background-color: #3B4455;\n",
              "      fill: #D2E3FC;\n",
              "    }\n",
              "\n",
              "    [theme=dark] .colab-df-convert:hover {\n",
              "      background-color: #434B5C;\n",
              "      box-shadow: 0px 1px 3px 1px rgba(0, 0, 0, 0.15);\n",
              "      filter: drop-shadow(0px 1px 2px rgba(0, 0, 0, 0.3));\n",
              "      fill: #FFFFFF;\n",
              "    }\n",
              "  </style>\n",
              "\n",
              "      <script>\n",
              "        const buttonEl =\n",
              "          document.querySelector('#df-3539d688-f12c-4326-a937-f571dbedc603 button.colab-df-convert');\n",
              "        buttonEl.style.display =\n",
              "          google.colab.kernel.accessAllowed ? 'block' : 'none';\n",
              "\n",
              "        async function convertToInteractive(key) {\n",
              "          const element = document.querySelector('#df-3539d688-f12c-4326-a937-f571dbedc603');\n",
              "          const dataTable =\n",
              "            await google.colab.kernel.invokeFunction('convertToInteractive',\n",
              "                                                     [key], {});\n",
              "          if (!dataTable) return;\n",
              "\n",
              "          const docLinkHtml = 'Like what you see? Visit the ' +\n",
              "            '<a target=\"_blank\" href=https://colab.research.google.com/notebooks/data_table.ipynb>data table notebook</a>'\n",
              "            + ' to learn more about interactive tables.';\n",
              "          element.innerHTML = '';\n",
              "          dataTable['output_type'] = 'display_data';\n",
              "          await google.colab.output.renderOutput(dataTable, element);\n",
              "          const docLink = document.createElement('div');\n",
              "          docLink.innerHTML = docLinkHtml;\n",
              "          element.appendChild(docLink);\n",
              "        }\n",
              "      </script>\n",
              "    </div>\n",
              "  </div>\n",
              "  "
            ]
          },
          "metadata": {},
          "execution_count": 16
        }
      ]
    },
    {
      "cell_type": "code",
      "source": [
        "el_prices.info()"
      ],
      "metadata": {
        "colab": {
          "base_uri": "https://localhost:8080/"
        },
        "id": "QBQpDfZfjaAz",
        "outputId": "950cfa93-c788-4ea7-e2fd-bf02da4119be"
      },
      "execution_count": 24,
      "outputs": [
        {
          "output_type": "stream",
          "name": "stdout",
          "text": [
            "<class 'pandas.core.frame.DataFrame'>\n",
            "RangeIndex: 38014 entries, 0 to 38013\n",
            "Data columns (total 18 columns):\n",
            " #   Column                  Non-Null Count  Dtype         \n",
            "---  ------                  --------------  -----         \n",
            " 0   DateTime                38014 non-null  datetime64[ns]\n",
            " 1   Holiday                 38014 non-null  object        \n",
            " 2   HolidayFlag             38014 non-null  int64         \n",
            " 3   DayOfWeek               38014 non-null  int64         \n",
            " 4   WeekOfYear              38014 non-null  int64         \n",
            " 5   Day                     38014 non-null  int64         \n",
            " 6   Month                   38014 non-null  int64         \n",
            " 7   Year                    38014 non-null  int64         \n",
            " 8   PeriodOfDay             38014 non-null  int64         \n",
            " 9   ForecastWindProduction  38009 non-null  float64       \n",
            " 10  SystemLoadEA            38012 non-null  float64       \n",
            " 11  SMPEA                   38012 non-null  object        \n",
            " 12  ORKTemperature          37719 non-null  object        \n",
            " 13  ORKWindspeed            37715 non-null  object        \n",
            " 14  CO2Intensity            38007 non-null  object        \n",
            " 15  ActualWindProduction    38009 non-null  object        \n",
            " 16  SystemLoadEP2           38012 non-null  object        \n",
            " 17  SMPEP2                  38012 non-null  object        \n",
            "dtypes: datetime64[ns](1), float64(2), int64(7), object(8)\n",
            "memory usage: 5.2+ MB\n"
          ]
        }
      ]
    },
    {
      "cell_type": "code",
      "source": [
        "el_prices = el_prices.replace('?', np.NaN)"
      ],
      "metadata": {
        "id": "LGOzDtaekAW8"
      },
      "execution_count": 18,
      "outputs": []
    },
    {
      "cell_type": "code",
      "source": [
        "el_prices['DateTime']=pd.to_datetime(el_prices['DateTime'], dayfirst=True)"
      ],
      "metadata": {
        "id": "SRCWDuqZkfcV"
      },
      "execution_count": 19,
      "outputs": []
    },
    {
      "cell_type": "code",
      "source": [
        "# columns_to_numeric columns changes every time colab is restarted. Need to update which columns change to numeric on every load.\n",
        "columns_to_numeric = ['SMPEA', 'ORKTemperature', 'ORKWindspeed', 'CO2Intensity', 'ActualWindProduction', 'SystemLoadEP2', 'SMPEP2']\n",
        "el_prices[columns_to_numeric] = el_prices[columns_to_numeric].apply(pd.to_numeric)"
      ],
      "metadata": {
        "id": "vUjHdJsSpuKZ"
      },
      "execution_count": 25,
      "outputs": []
    },
    {
      "cell_type": "code",
      "source": [
        "el_prices.info()"
      ],
      "metadata": {
        "colab": {
          "base_uri": "https://localhost:8080/"
        },
        "id": "H6SU6I2QlBm4",
        "outputId": "b9a43240-3f1a-4404-f739-d98c7aa03323"
      },
      "execution_count": 26,
      "outputs": [
        {
          "output_type": "stream",
          "name": "stdout",
          "text": [
            "<class 'pandas.core.frame.DataFrame'>\n",
            "RangeIndex: 38014 entries, 0 to 38013\n",
            "Data columns (total 18 columns):\n",
            " #   Column                  Non-Null Count  Dtype         \n",
            "---  ------                  --------------  -----         \n",
            " 0   DateTime                38014 non-null  datetime64[ns]\n",
            " 1   Holiday                 38014 non-null  object        \n",
            " 2   HolidayFlag             38014 non-null  int64         \n",
            " 3   DayOfWeek               38014 non-null  int64         \n",
            " 4   WeekOfYear              38014 non-null  int64         \n",
            " 5   Day                     38014 non-null  int64         \n",
            " 6   Month                   38014 non-null  int64         \n",
            " 7   Year                    38014 non-null  int64         \n",
            " 8   PeriodOfDay             38014 non-null  int64         \n",
            " 9   ForecastWindProduction  38009 non-null  float64       \n",
            " 10  SystemLoadEA            38012 non-null  float64       \n",
            " 11  SMPEA                   38012 non-null  float64       \n",
            " 12  ORKTemperature          37719 non-null  float64       \n",
            " 13  ORKWindspeed            37715 non-null  float64       \n",
            " 14  CO2Intensity            38007 non-null  float64       \n",
            " 15  ActualWindProduction    38009 non-null  float64       \n",
            " 16  SystemLoadEP2           38012 non-null  float64       \n",
            " 17  SMPEP2                  38012 non-null  float64       \n",
            "dtypes: datetime64[ns](1), float64(9), int64(7), object(1)\n",
            "memory usage: 5.2+ MB\n"
          ]
        }
      ]
    },
    {
      "cell_type": "code",
      "source": [
        "el_prices.isnull().sum()"
      ],
      "metadata": {
        "colab": {
          "base_uri": "https://localhost:8080/"
        },
        "id": "7BYbI-WGlFHp",
        "outputId": "f02fbde8-91d9-4361-fd5e-f6661f45b80e"
      },
      "execution_count": 27,
      "outputs": [
        {
          "output_type": "execute_result",
          "data": {
            "text/plain": [
              "DateTime                    0\n",
              "Holiday                     0\n",
              "HolidayFlag                 0\n",
              "DayOfWeek                   0\n",
              "WeekOfYear                  0\n",
              "Day                         0\n",
              "Month                       0\n",
              "Year                        0\n",
              "PeriodOfDay                 0\n",
              "ForecastWindProduction      5\n",
              "SystemLoadEA                2\n",
              "SMPEA                       2\n",
              "ORKTemperature            295\n",
              "ORKWindspeed              299\n",
              "CO2Intensity                7\n",
              "ActualWindProduction        5\n",
              "SystemLoadEP2               2\n",
              "SMPEP2                      2\n",
              "dtype: int64"
            ]
          },
          "metadata": {},
          "execution_count": 27
        }
      ]
    },
    {
      "cell_type": "markdown",
      "source": [
        "![image.png](data:image/png;base64,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)"
      ],
      "metadata": {
        "id": "rAl9u5hfyMVl"
      }
    },
    {
      "cell_type": "code",
      "source": [
        "el_prices = el_prices.dropna()"
      ],
      "metadata": {
        "id": "V9_ChD-_yM7i"
      },
      "execution_count": 28,
      "outputs": []
    },
    {
      "cell_type": "code",
      "source": [
        "el_prices_plot = el_prices.set_index('DateTime')\n",
        "el_prices_plot[['SMPEA','SMPEP2']].resample('M').mean().plot()"
      ],
      "metadata": {
        "colab": {
          "base_uri": "https://localhost:8080/",
          "height": 308
        },
        "id": "KwU5nMUJy36d",
        "outputId": "43addefe-c951-4ce0-db71-a4782ccae0c2"
      },
      "execution_count": 29,
      "outputs": [
        {
          "output_type": "execute_result",
          "data": {
            "text/plain": [
              "<matplotlib.axes._subplots.AxesSubplot at 0x7f57d30128d0>"
            ]
          },
          "metadata": {},
          "execution_count": 29
        },
        {
          "output_type": "display_data",
          "data": {
            "text/plain": [
              "<Figure size 432x288 with 1 Axes>"
            ],
            "image/png": "[encoded data removed]"
          },
          "metadata": {
            "needs_background": "light"
          }
        }
      ]
    },
    {
      "cell_type": "code",
      "source": [
        "corr_data=el_prices.corr()[['SMPEP2']].sort_values(by='SMPEP2', ascending=False)"
      ],
      "metadata": {
        "id": "oiXAMN__zZ87"
      },
      "execution_count": 30,
      "outputs": []
    },
    {
      "cell_type": "code",
      "source": [
        "corr_data.head(10)"
      ],
      "metadata": {
        "colab": {
          "base_uri": "https://localhost:8080/",
          "height": 363
        },
        "id": "HoXvuIOV2C2o",
        "outputId": "c1bdd06a-0525-4b07-d6d7-23c9695698d5"
      },
      "execution_count": 31,
      "outputs": [
        {
          "output_type": "execute_result",
          "data": {
            "text/plain": [
              "                  SMPEP2\n",
              "SMPEP2          1.000000\n",
              "SMPEA           0.618158\n",
              "SystemLoadEP2   0.517081\n",
              "SystemLoadEA    0.491096\n",
              "PeriodOfDay     0.323490\n",
              "Year            0.045456\n",
              "HolidayFlag    -0.001838\n",
              "ORKTemperature -0.009087\n",
              "Day            -0.012801\n",
              "Month          -0.014918"
            ],
            "text/html": [
              "\n",
              "  <div id=\"df-189e75a8-ab54-4941-9bc0-2176f886355e\">\n",
              "    <div class=\"colab-df-container\">\n",
              "      <div>\n",
              "<style scoped>\n",
              "    .dataframe tbody tr th:only-of-type {\n",
              "        vertical-align: middle;\n",
              "    }\n",
              "\n",
              "    .dataframe tbody tr th {\n",
              "        vertical-align: top;\n",
              "    }\n",
              "\n",
              "    .dataframe thead th {\n",
              "        text-align: right;\n",
              "    }\n",
              "</style>\n",
              "<table border=\"1\" class=\"dataframe\">\n",
              "  <thead>\n",
              "    <tr style=\"text-align: right;\">\n",
              "      <th></th>\n",
              "      <th>SMPEP2</th>\n",
              "    </tr>\n",
              "  </thead>\n",
              "  <tbody>\n",
              "    <tr>\n",
              "      <th>SMPEP2</th>\n",
              "      <td>1.000000</td>\n",
              "    </tr>\n",
              "    <tr>\n",
              "      <th>SMPEA</th>\n",
              "      <td>0.618158</td>\n",
              "    </tr>\n",
              "    <tr>\n",
              "      <th>SystemLoadEP2</th>\n",
              "      <td>0.517081</td>\n",
              "    </tr>\n",
              "    <tr>\n",
              "      <th>SystemLoadEA</th>\n",
              "      <td>0.491096</td>\n",
              "    </tr>\n",
              "    <tr>\n",
              "      <th>PeriodOfDay</th>\n",
              "      <td>0.323490</td>\n",
              "    </tr>\n",
              "    <tr>\n",
              "      <th>Year</th>\n",
              "      <td>0.045456</td>\n",
              "    </tr>\n",
              "    <tr>\n",
              "      <th>HolidayFlag</th>\n",
              "      <td>-0.001838</td>\n",
              "    </tr>\n",
              "    <tr>\n",
              "      <th>ORKTemperature</th>\n",
              "      <td>-0.009087</td>\n",
              "    </tr>\n",
              "    <tr>\n",
              "      <th>Day</th>\n",
              "      <td>-0.012801</td>\n",
              "    </tr>\n",
              "    <tr>\n",
              "      <th>Month</th>\n",
              "      <td>-0.014918</td>\n",
              "    </tr>\n",
              "  </tbody>\n",
              "</table>\n",
              "</div>\n",
              "      <button class=\"colab-df-convert\" onclick=\"convertToInteractive('df-189e75a8-ab54-4941-9bc0-2176f886355e')\"\n",
              "              title=\"Convert this dataframe to an interactive table.\"\n",
              "              style=\"display:none;\">\n",
              "        \n",
              "  <svg xmlns=\"http://www.w3.org/2000/svg\" height=\"24px\"viewBox=\"0 0 24 24\"\n",
              "       width=\"24px\">\n",
              "    <path d=\"M0 0h24v24H0V0z\" fill=\"none\"/>\n",
              "    <path d=\"M18.56 5.44l.94 2.06.94-2.06 2.06-.94-2.06-.94-.94-2.06-.94 2.06-2.06.94zm-11 1L8.5 8.5l.94-2.06 2.06-.94-2.06-.94L8.5 2.5l-.94 2.06-2.06.94zm10 10l.94 2.06.94-2.06 2.06-.94-2.06-.94-.94-2.06-.94 2.06-2.06.94z\"/><path d=\"M17.41 7.96l-1.37-1.37c-.4-.4-.92-.59-1.43-.59-.52 0-1.04.2-1.43.59L10.3 9.45l-7.72 7.72c-.78.78-.78 2.05 0 2.83L4 21.41c.39.39.9.59 1.41.59.51 0 1.02-.2 1.41-.59l7.78-7.78 2.81-2.81c.8-.78.8-2.07 0-2.86zM5.41 20L4 18.59l7.72-7.72 1.47 1.35L5.41 20z\"/>\n",
              "  </svg>\n",
              "      </button>\n",
              "      \n",
              "  <style>\n",
              "    .colab-df-container {\n",
              "      display:flex;\n",
              "      flex-wrap:wrap;\n",
              "      gap: 12px;\n",
              "    }\n",
              "\n",
              "    .colab-df-convert {\n",
              "      background-color: #E8F0FE;\n",
              "      border: none;\n",
              "      border-radius: 50%;\n",
              "      cursor: pointer;\n",
              "      display: none;\n",
              "      fill: #1967D2;\n",
              "      height: 32px;\n",
              "      padding: 0 0 0 0;\n",
              "      width: 32px;\n",
              "    }\n",
              "\n",
              "    .colab-df-convert:hover {\n",
              "      background-color: #E2EBFA;\n",
              "      box-shadow: 0px 1px 2px rgba(60, 64, 67, 0.3), 0px 1px 3px 1px rgba(60, 64, 67, 0.15);\n",
              "      fill: #174EA6;\n",
              "    }\n",
              "\n",
              "    [theme=dark] .colab-df-convert {\n",
              "      background-color: #3B4455;\n",
              "      fill: #D2E3FC;\n",
              "    }\n",
              "\n",
              "    [theme=dark] .colab-df-convert:hover {\n",
              "      background-color: #434B5C;\n",
              "      box-shadow: 0px 1px 3px 1px rgba(0, 0, 0, 0.15);\n",
              "      filter: drop-shadow(0px 1px 2px rgba(0, 0, 0, 0.3));\n",
              "      fill: #FFFFFF;\n",
              "    }\n",
              "  </style>\n",
              "\n",
              "      <script>\n",
              "        const buttonEl =\n",
              "          document.querySelector('#df-189e75a8-ab54-4941-9bc0-2176f886355e button.colab-df-convert');\n",
              "        buttonEl.style.display =\n",
              "          google.colab.kernel.accessAllowed ? 'block' : 'none';\n",
              "\n",
              "        async function convertToInteractive(key) {\n",
              "          const element = document.querySelector('#df-189e75a8-ab54-4941-9bc0-2176f886355e');\n",
              "          const dataTable =\n",
              "            await google.colab.kernel.invokeFunction('convertToInteractive',\n",
              "                                                     [key], {});\n",
              "          if (!dataTable) return;\n",
              "\n",
              "          const docLinkHtml = 'Like what you see? Visit the ' +\n",
              "            '<a target=\"_blank\" href=https://colab.research.google.com/notebooks/data_table.ipynb>data table notebook</a>'\n",
              "            + ' to learn more about interactive tables.';\n",
              "          element.innerHTML = '';\n",
              "          dataTable['output_type'] = 'display_data';\n",
              "          await google.colab.output.renderOutput(dataTable, element);\n",
              "          const docLink = document.createElement('div');\n",
              "          docLink.innerHTML = docLinkHtml;\n",
              "          element.appendChild(docLink);\n",
              "        }\n",
              "      </script>\n",
              "    </div>\n",
              "  </div>\n",
              "  "
            ]
          },
          "metadata": {},
          "execution_count": 31
        }
      ]
    },
    {
      "cell_type": "code",
      "source": [
        "y = el_prices.SMPEP2"
      ],
      "metadata": {
        "id": "iCrlmr3t2On4"
      },
      "execution_count": 32,
      "outputs": []
    },
    {
      "cell_type": "code",
      "source": [
        "X_clean=el_prices[['SMPEA','SystemLoadEP2','SystemLoadEA', 'PeriodOfDay']]\n",
        "X_train, X_valid, y_train, y_valid = train_test_split(X_clean, y)"
      ],
      "metadata": {
        "id": "bLw2NoiL2VZg"
      },
      "execution_count": 33,
      "outputs": []
    },
    {
      "cell_type": "code",
      "source": [
        "clean_model = XGBRegressor(random_state=63)\n",
        "clean_model.fit(X_train, y_train)"
      ],
      "metadata": {
        "colab": {
          "base_uri": "https://localhost:8080/"
        },
        "id": "0X5VFbSV2fcU",
        "outputId": "98a8f61a-ce71-4133-cee6-febf4537a805"
      },
      "execution_count": 34,
      "outputs": [
        {
          "output_type": "stream",
          "name": "stdout",
          "text": [
            "[18:11:10] WARNING: /workspace/src/objective/regression_obj.cu:152: reg:linear is now deprecated in favor of reg:squarederror.\n"
          ]
        },
        {
          "output_type": "execute_result",
          "data": {
            "text/plain": [
              "XGBRegressor(random_state=63)"
            ]
          },
          "metadata": {},
          "execution_count": 34
        }
      ]
    },
    {
      "cell_type": "code",
      "source": [
        "clean_predictions = clean_model.predict(X_valid)\n",
        "mae_XBG = mean_absolute_error(clean_predictions, y_valid)\n",
        "mean_y = el_prices.SMPEP2.mean()"
      ],
      "metadata": {
        "id": "vywnuA3J2nHw"
      },
      "execution_count": 35,
      "outputs": []
    },
    {
      "cell_type": "code",
      "source": [
        "print('Mean Absolute Error: ' + str(mae_XBG))\n",
        "print('prediction accuracy: ' + str(1 - mae_XBG/mean_y))"
      ],
      "metadata": {
        "colab": {
          "base_uri": "https://localhost:8080/"
        },
        "id": "6aEee52c21iZ",
        "outputId": "c13a8a4f-c7be-4931-dd0a-03b7c7be4b50"
      },
      "execution_count": 36,
      "outputs": [
        {
          "output_type": "stream",
          "name": "stdout",
          "text": [
            "Mean Absolute Error: 13.757049300608115\n",
            "prediction accuracy: 0.7856534552031225\n"
          ]
        }
      ]
    },
    {
      "cell_type": "code",
      "source": [
        "clean_model_tuned_1 = XGBRegressor(n_estimators=200, learning_rate=0.05)\n",
        "clean_model_tuned_1.fit(X_train, y_train)\n",
        "clean_predictions_tuned_1 = clean_model_tuned_1.predict(X_valid)\n",
        "mae_XBG_tuned_1 = mean_absolute_error(clean_predictions_tuned_1, y_valid)\n",
        "mean_y = el_prices.SMPEP2.mean()\n",
        "print('Mean Absolute Error: ' + str(mae_XBG_tuned_1))\n",
        "print('prediction accuracy: ' + str(1 - mae_XBG_tuned_1/mean_y))"
      ],
      "metadata": {
        "colab": {
          "base_uri": "https://localhost:8080/"
        },
        "id": "L2jkGa8C3JzR",
        "outputId": "623fab89-3535-400a-ef5c-a2a8762061e1"
      },
      "execution_count": 90,
      "outputs": [
        {
          "output_type": "stream",
          "name": "stdout",
          "text": [
            "[18:56:05] WARNING: /workspace/src/objective/regression_obj.cu:152: reg:linear is now deprecated in favor of reg:squarederror.\n",
            "Mean Absolute Error: 13.516729933497077\n",
            "prediction accuracy: 0.7893978356194773\n"
          ]
        }
      ]
    },
    {
      "cell_type": "code",
      "source": [
        "clean_model_tuned_2 = XGBRegressor(n_estimators=700, learning_rate=0.1)\n",
        "clean_model_tuned_2.fit(X_train, y_train)\n",
        "clean_predictions_tuned_2 = clean_model_tuned_2.predict(X_valid)\n",
        "mae_XBG_tuned_2 = mean_absolute_error(clean_predictions_tuned_2, y_valid)\n",
        "print('Mean Absolute Error: ' + str(mae_XBG_tuned_2))\n",
        "print('prediction accuracy: ' + str(1 - mae_XBG_tuned_2/mean_y))"
      ],
      "metadata": {
        "id": "VgpmSn9Y__-a",
        "outputId": "ede599e8-7803-48cc-b057-ab6d3fc6229f",
        "colab": {
          "base_uri": "https://localhost:8080/"
        }
      },
      "execution_count": 91,
      "outputs": [
        {
          "output_type": "stream",
          "name": "stdout",
          "text": [
            "[18:56:14] WARNING: /workspace/src/objective/regression_obj.cu:152: reg:linear is now deprecated in favor of reg:squarederror.\n",
            "Mean Absolute Error: 12.828857391927542\n",
            "prediction accuracy: 0.8001154756688996\n"
          ]
        }
      ]
    },
    {
      "cell_type": "code",
      "source": [
        "forest_model = RandomForestRegressor(random_state=63)\n",
        "forest_model.fit(X_train, y_train)\n",
        "fores_preds = forest_model.predict(X_valid)\n",
        "forest_mae = mean_absolute_error(y_valid, fores_preds)\n",
        "print('Mean Absolute Error: ' + str(forest_mae))\n",
        "print('prediction accuracy: ' + str(1 - forest_mae/mean_y))"
      ],
      "metadata": {
        "colab": {
          "base_uri": "https://localhost:8080/"
        },
        "id": "VfEzEZ-o5_CR",
        "outputId": "9e5161fb-a528-485c-b7da-9d858ab6da84"
      },
      "execution_count": 69,
      "outputs": [
        {
          "output_type": "stream",
          "name": "stdout",
          "text": [
            "Mean Absolute Error: 12.399606379365247\n",
            "prediction accuracy: 0.80680357203192\n"
          ]
        }
      ]
    },
    {
      "cell_type": "code",
      "source": [
        "forest_model_2 = RandomForestRegressor(n_estimators=200)\n",
        "forest_model_2.fit(X_train, y_train)\n",
        "fores_preds_2 = forest_model_2.predict(X_valid)\n",
        "forest_mae_2 = mean_absolute_error(y_valid, fores_preds_2)\n",
        "print('Mean Absolute Error: ' + str(forest_mae_2))\n",
        "print('prediction accuracy: ' + str(1 - forest_mae_2/mean_y))"
      ],
      "metadata": {
        "id": "lMVeZ3gqBDJu",
        "outputId": "8590ad22-5348-40b1-bffb-e25aab036858",
        "colab": {
          "base_uri": "https://localhost:8080/"
        }
      },
      "execution_count": 93,
      "outputs": [
        {
          "output_type": "stream",
          "name": "stdout",
          "text": [
            "Mean Absolute Error: 9.301598890775926\n",
            "prediction accuracy: 0.8550731672353492\n"
          ]
        }
      ]
    },
    {
      "cell_type": "markdown",
      "source": [
        "It seems that Random Forest is way more tunable for this data."
      ],
      "metadata": {
        "id": "bLf5WdLXBmtH"
      }
    },
    {
      "cell_type": "code",
      "source": [
        "full_model = el_prices.drop(['DateTime', 'SMPEP2', 'Holiday'],axis=1)\n",
        "X_train, X_valid, y_train, y_valid = train_test_split(full_model, y)"
      ],
      "metadata": {
        "id": "E1WrIEJm7u7h"
      },
      "execution_count": 78,
      "outputs": []
    },
    {
      "cell_type": "code",
      "source": [
        "full_model.info()"
      ],
      "metadata": {
        "colab": {
          "base_uri": "https://localhost:8080/"
        },
        "id": "im76h8hP8vIs",
        "outputId": "ebfda530-b0a3-4165-a4cf-cf840b31e243"
      },
      "execution_count": 79,
      "outputs": [
        {
          "output_type": "stream",
          "name": "stdout",
          "text": [
            "<class 'pandas.core.frame.DataFrame'>\n",
            "Int64Index: 37682 entries, 0 to 38013\n",
            "Data columns (total 15 columns):\n",
            " #   Column                  Non-Null Count  Dtype  \n",
            "---  ------                  --------------  -----  \n",
            " 0   HolidayFlag             37682 non-null  int64  \n",
            " 1   DayOfWeek               37682 non-null  int64  \n",
            " 2   WeekOfYear              37682 non-null  int64  \n",
            " 3   Day                     37682 non-null  int64  \n",
            " 4   Month                   37682 non-null  int64  \n",
            " 5   Year                    37682 non-null  int64  \n",
            " 6   PeriodOfDay             37682 non-null  int64  \n",
            " 7   ForecastWindProduction  37682 non-null  float64\n",
            " 8   SystemLoadEA            37682 non-null  float64\n",
            " 9   SMPEA                   37682 non-null  float64\n",
            " 10  ORKTemperature          37682 non-null  float64\n",
            " 11  ORKWindspeed            37682 non-null  float64\n",
            " 12  CO2Intensity            37682 non-null  float64\n",
            " 13  ActualWindProduction    37682 non-null  float64\n",
            " 14  SystemLoadEP2           37682 non-null  float64\n",
            "dtypes: float64(8), int64(7)\n",
            "memory usage: 4.6 MB\n"
          ]
        }
      ]
    },
    {
      "cell_type": "code",
      "source": [
        "XGB_model = XGBRegressor(random_state=63)\n",
        "XGB_model.fit(X_train, y_train)\n",
        "predictions_XGB_full = XGB_model.predict(X_valid)\n",
        "mae_XBG_full = mean_absolute_error(predictions_XGB_full, y_valid)\n",
        "mean_y = el_prices.SMPEP2.mean()\n",
        "print('Mean Absolute Error: ' + str(mae_XBG_full))\n",
        "print('prediction accuracy: ' + str((mean_y - mae_XBG_full)/mean_y))"
      ],
      "metadata": {
        "colab": {
          "base_uri": "https://localhost:8080/"
        },
        "id": "oETwER4P7zaa",
        "outputId": "8c83c443-166d-43ec-f642-622edef2663f"
      },
      "execution_count": 80,
      "outputs": [
        {
          "output_type": "stream",
          "name": "stdout",
          "text": [
            "[18:38:44] WARNING: /workspace/src/objective/regression_obj.cu:152: reg:linear is now deprecated in favor of reg:squarederror.\n",
            "Mean Absolute Error: 13.505793752254238\n",
            "prediction accuracy: 0.7895682306374389\n"
          ]
        }
      ]
    },
    {
      "cell_type": "code",
      "source": [
        "forest_model_full = RandomForestRegressor(random_state=63, n_estimators=200)\n",
        "forest_model_full.fit(X_train, y_train)\n",
        "predictions_fmf = forest_model_full.predict(X_valid)\n",
        "fmf_mae = mean_absolute_error(y_valid, predictions_fmf)\n",
        "print('Mean Absolute Error: ' + str(fmf_mae))\n",
        "print('prediction accuracy: ' + str(1 - fmf_mae/mean_y))"
      ],
      "metadata": {
        "colab": {
          "base_uri": "https://localhost:8080/"
        },
        "id": "jHl0geKv88KW",
        "outputId": "81b04d3c-8c86-4222-933a-14935ca6cc56"
      },
      "execution_count": 94,
      "outputs": [
        {
          "output_type": "stream",
          "name": "stdout",
          "text": [
            "Mean Absolute Error: 9.285970226090647\n",
            "prediction accuracy: 0.8553166751418688\n"
          ]
        }
      ]
    },
    {
      "cell_type": "markdown",
      "source": [
        "Random forest with full data performs better thant XGB model. With clean data the difference between models is smaller. It seems that feeding more data points to models will benefit Random forest more. XGB on the other hand improves only a little bit with more data points.\n",
        "\n",
        "Main takeaway from this task is that finding the correct model for certain data will benefit you more than trying to tune wrong model to your data. But both tasks is time consuming and should be considered in yout assesment if you can use ML in your work."
      ],
      "metadata": {
        "id": "NWc27UpC9xjT"
      }
    }
  ]
}